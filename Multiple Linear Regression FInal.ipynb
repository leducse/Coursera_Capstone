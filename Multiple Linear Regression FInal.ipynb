{
 "cells": [
  {
   "cell_type": "code",
   "execution_count": null,
   "metadata": {},
   "outputs": [],
   "source": []
  },
  {
   "cell_type": "markdown",
   "metadata": {
    "button": false,
    "deletable": true,
    "new_sheet": false,
    "run_control": {
     "read_only": false
    }
   },
   "source": [
    "<a href=\"https://www.bigdatauniversity.com\"><img src=\"https://ibm.box.com/shared/static/cw2c7r3o20w9zn8gkecaeyjhgw3xdgbj.png\" width=\"400\" align=\"center\"></a>\n",
    "\n",
    "<h1><center>Multiple Linear Regression</center></h1>\n",
    "\n",
    "<h4>About this Notebook</h4>\n",
    "In this notebook, we learn how to use scikit-learn to implement Multiple linear regression. We download a dataset that is related to fuel consumption and Carbon dioxide emission of cars. Then, we split our data into training and test sets, create a model using training set, Evaluate your model using test set, and finally use model to predict unknown value\n"
   ]
  },
  {
   "cell_type": "markdown",
   "metadata": {},
   "source": [
    "<h1>Table of contents</h1>\n",
    "\n",
    "<div class=\"alert alert-block alert-info\" style=\"margin-top: 20px\">\n",
    "    <ol>\n",
    "        <li><a href=\"#understanding-data\">Understanding the Data</a></li>\n",
    "        <li><a href=\"#reading_data\">Reading the Data in</a></li>\n",
    "        <li><a href=\"#multiple_regression_model\">Multiple Regression Model</a></li>\n",
    "        <li><a href=\"#prediction\">Prediction</a></li>\n",
    "        <li><a href=\"#practice\">Practice</a></li>\n",
    "    </ol>\n",
    "</div>\n",
    "<br>\n",
    "<hr>"
   ]
  },
  {
   "cell_type": "markdown",
   "metadata": {
    "button": false,
    "deletable": true,
    "new_sheet": false,
    "run_control": {
     "read_only": false
    }
   },
   "source": [
    "### Importing Needed packages"
   ]
  },
  {
   "cell_type": "code",
   "execution_count": 1,
   "metadata": {
    "button": false,
    "collapsed": true,
    "deletable": true,
    "new_sheet": false,
    "run_control": {
     "read_only": false
    }
   },
   "outputs": [],
   "source": [
    "import matplotlib.pyplot as plt\n",
    "import pandas as pd\n",
    "import pylab as pl\n",
    "import numpy as np\n",
    "%matplotlib inline"
   ]
  },
  {
   "cell_type": "markdown",
   "metadata": {
    "button": false,
    "deletable": true,
    "new_sheet": false,
    "run_control": {
     "read_only": false
    }
   },
   "source": [
    "### Downloading Data\n",
    "To download the data, we will use !wget to download it from IBM Object Storage."
   ]
  },
  {
   "cell_type": "code",
   "execution_count": 2,
   "metadata": {
    "button": false,
    "collapsed": true,
    "deletable": true,
    "new_sheet": false,
    "run_control": {
     "read_only": false
    }
   },
   "outputs": [],
   "source": [
    "path3=r'http://ec2-54-235-58-226.compute-1.amazonaws.com/storage/f/2014-02-23T17%3A11%3A51.737Z/dc-neighborhood-cluster-demographics.csv'\n",
    "df = pd.read_csv (path3,index_col=2)"
   ]
  },
  {
   "cell_type": "markdown",
   "metadata": {},
   "source": [
    "__Did you know?__ When it comes to Machine Learning, you will likely be working with large datasets. As a business, where can you host your data? IBM is offering a unique opportunity for businesses, with 10 Tb of IBM Cloud Object Storage: [Sign up now for free](http://cocl.us/ML0101EN-IBM-Offer-CC)"
   ]
  },
  {
   "cell_type": "markdown",
   "metadata": {
    "button": false,
    "deletable": true,
    "new_sheet": false,
    "run_control": {
     "read_only": false
    }
   },
   "source": [
    "\n",
    "<h2 id=\"understanding_data\">Understanding the Data</h2>\n",
    "\n",
    "### `FuelConsumption.csv`:\n",
    "We have downloaded a fuel consumption dataset, **`FuelConsumption.csv`**, which contains model-specific fuel consumption ratings and estimated carbon dioxide emissions for new light-duty vehicles for retail sale in Canada. [Dataset source](http://open.canada.ca/data/en/dataset/98f1a129-f628-4ce4-b24d-6f16bf24dd64)\n",
    "\n",
    "- **MODELYEAR** e.g. 2014\n",
    "- **MAKE** e.g. Acura\n",
    "- **MODEL** e.g. ILX\n",
    "- **VEHICLE CLASS** e.g. SUV\n",
    "- **ENGINE SIZE** e.g. 4.7\n",
    "- **CYLINDERS** e.g 6\n",
    "- **TRANSMISSION** e.g. A6\n",
    "- **FUELTYPE** e.g. z\n",
    "- **FUEL CONSUMPTION in CITY(L/100 km)** e.g. 9.9\n",
    "- **FUEL CONSUMPTION in HWY (L/100 km)** e.g. 8.9\n",
    "- **FUEL CONSUMPTION COMB (L/100 km)** e.g. 9.2\n",
    "- **CO2 EMISSIONS (g/km)** e.g. 182   --> low --> 0\n"
   ]
  },
  {
   "cell_type": "markdown",
   "metadata": {
    "button": false,
    "deletable": true,
    "new_sheet": false,
    "run_control": {
     "read_only": false
    }
   },
   "source": [
    "<h2 id=\"reading_data\">Reading the data in</h2>"
   ]
  },
  {
   "cell_type": "code",
   "execution_count": 4,
   "metadata": {
    "button": false,
    "collapsed": true,
    "deletable": true,
    "new_sheet": false,
    "run_control": {
     "read_only": false
    }
   },
   "outputs": [
    {
     "data": {
      "text/html": [
       "<div>\n",
       "<style scoped>\n",
       "    .dataframe tbody tr th:only-of-type {\n",
       "        vertical-align: middle;\n",
       "    }\n",
       "\n",
       "    .dataframe tbody tr th {\n",
       "        vertical-align: top;\n",
       "    }\n",
       "\n",
       "    .dataframe thead th {\n",
       "        text-align: right;\n",
       "    }\n",
       "</style>\n",
       "<table border=\"1\" class=\"dataframe\">\n",
       "  <thead>\n",
       "    <tr style=\"text-align: right;\">\n",
       "      <th></th>\n",
       "      <th>neighborhood_cluster</th>\n",
       "      <th>Cluster_num</th>\n",
       "      <th>Full_Name</th>\n",
       "      <th>lon_ctr</th>\n",
       "      <th>lat_ctr</th>\n",
       "      <th>Population</th>\n",
       "      <th>Population,_1980</th>\n",
       "      <th>Population,_1990</th>\n",
       "      <th>Population,_2000</th>\n",
       "      <th>Population,_2010</th>\n",
       "      <th>...</th>\n",
       "      <th>Charter_school_enrollment_2005</th>\n",
       "      <th>Charter_school_enrollment_2006</th>\n",
       "      <th>Charter_school_enrollment_2007</th>\n",
       "      <th>Charter_school_enrollment_2008</th>\n",
       "      <th>Charter_school_enrollment_2009</th>\n",
       "      <th>Charter_school_enrollment_2010</th>\n",
       "      <th>Charter_school_enrollment_2011</th>\n",
       "      <th>Charter_school_enrollment_2012</th>\n",
       "      <th>CAS_math_prof</th>\n",
       "      <th>CAS_read_prof</th>\n",
       "    </tr>\n",
       "    <tr>\n",
       "      <th>Short_Name</th>\n",
       "      <th></th>\n",
       "      <th></th>\n",
       "      <th></th>\n",
       "      <th></th>\n",
       "      <th></th>\n",
       "      <th></th>\n",
       "      <th></th>\n",
       "      <th></th>\n",
       "      <th></th>\n",
       "      <th></th>\n",
       "      <th></th>\n",
       "      <th></th>\n",
       "      <th></th>\n",
       "      <th></th>\n",
       "      <th></th>\n",
       "      <th></th>\n",
       "      <th></th>\n",
       "      <th></th>\n",
       "      <th></th>\n",
       "      <th></th>\n",
       "      <th></th>\n",
       "    </tr>\n",
       "  </thead>\n",
       "  <tbody>\n",
       "    <tr>\n",
       "      <th>Adams Morgan</th>\n",
       "      <td>Cluster 1</td>\n",
       "      <td>1</td>\n",
       "      <td>Kalorama Heights, Adams Morgan, Lanier Heights</td>\n",
       "      <td>-77.047702</td>\n",
       "      <td>38.919379</td>\n",
       "      <td>NaN</td>\n",
       "      <td>18149</td>\n",
       "      <td>17812</td>\n",
       "      <td>18167</td>\n",
       "      <td>18338</td>\n",
       "      <td>...</td>\n",
       "      <td>0</td>\n",
       "      <td>123</td>\n",
       "      <td>158</td>\n",
       "      <td>187</td>\n",
       "      <td>226</td>\n",
       "      <td>239</td>\n",
       "      <td>515</td>\n",
       "      <td>436</td>\n",
       "      <td>0.680769</td>\n",
       "      <td>0.634615</td>\n",
       "    </tr>\n",
       "    <tr>\n",
       "      <th>Columbia Heights</th>\n",
       "      <td>Cluster 2</td>\n",
       "      <td>2</td>\n",
       "      <td>Columbia Heights, Mt. Pleasant, Pleasant Plain...</td>\n",
       "      <td>-77.031769</td>\n",
       "      <td>38.928700</td>\n",
       "      <td>NaN</td>\n",
       "      <td>44081</td>\n",
       "      <td>45728</td>\n",
       "      <td>46779</td>\n",
       "      <td>47378</td>\n",
       "      <td>...</td>\n",
       "      <td>2026</td>\n",
       "      <td>2423</td>\n",
       "      <td>2714</td>\n",
       "      <td>2940</td>\n",
       "      <td>3445</td>\n",
       "      <td>3656</td>\n",
       "      <td>2926</td>\n",
       "      <td>3992</td>\n",
       "      <td>0.582751</td>\n",
       "      <td>0.529604</td>\n",
       "    </tr>\n",
       "    <tr>\n",
       "      <th>Shaw</th>\n",
       "      <td>Cluster 3</td>\n",
       "      <td>3</td>\n",
       "      <td>Howard University, Le Droit Park, Cardozo/Shaw</td>\n",
       "      <td>-77.023415</td>\n",
       "      <td>38.921257</td>\n",
       "      <td>NaN</td>\n",
       "      <td>11335</td>\n",
       "      <td>10925</td>\n",
       "      <td>10128</td>\n",
       "      <td>12174</td>\n",
       "      <td>...</td>\n",
       "      <td>1305</td>\n",
       "      <td>1361</td>\n",
       "      <td>1407</td>\n",
       "      <td>1299</td>\n",
       "      <td>1362</td>\n",
       "      <td>1309</td>\n",
       "      <td>243</td>\n",
       "      <td>1507</td>\n",
       "      <td>0.550725</td>\n",
       "      <td>0.531401</td>\n",
       "    </tr>\n",
       "    <tr>\n",
       "      <th>Georgetown</th>\n",
       "      <td>Cluster 4</td>\n",
       "      <td>4</td>\n",
       "      <td>Georgetown, Burleith/Hillandale</td>\n",
       "      <td>-77.066409</td>\n",
       "      <td>38.909686</td>\n",
       "      <td>NaN</td>\n",
       "      <td>16071</td>\n",
       "      <td>17919</td>\n",
       "      <td>18741</td>\n",
       "      <td>20464</td>\n",
       "      <td>...</td>\n",
       "      <td>0</td>\n",
       "      <td>53</td>\n",
       "      <td>86</td>\n",
       "      <td>0</td>\n",
       "      <td>0</td>\n",
       "      <td>0</td>\n",
       "      <td>0</td>\n",
       "      <td>0</td>\n",
       "      <td>0.859155</td>\n",
       "      <td>0.887324</td>\n",
       "    </tr>\n",
       "    <tr>\n",
       "      <th>Foggy Bottom</th>\n",
       "      <td>Cluster 5</td>\n",
       "      <td>5</td>\n",
       "      <td>West End, Foggy Bottom, GWU</td>\n",
       "      <td>-77.048975</td>\n",
       "      <td>38.902386</td>\n",
       "      <td>NaN</td>\n",
       "      <td>10731</td>\n",
       "      <td>11104</td>\n",
       "      <td>11723</td>\n",
       "      <td>16160</td>\n",
       "      <td>...</td>\n",
       "      <td>0</td>\n",
       "      <td>0</td>\n",
       "      <td>0</td>\n",
       "      <td>0</td>\n",
       "      <td>0</td>\n",
       "      <td>0</td>\n",
       "      <td>0</td>\n",
       "      <td>0</td>\n",
       "      <td>0.666667</td>\n",
       "      <td>0.750000</td>\n",
       "    </tr>\n",
       "  </tbody>\n",
       "</table>\n",
       "<p>5 rows × 415 columns</p>\n",
       "</div>"
      ],
      "text/plain": [
       "                 neighborhood_cluster  Cluster_num  \\\n",
       "Short_Name                                           \n",
       "Adams Morgan                Cluster 1            1   \n",
       "Columbia Heights            Cluster 2            2   \n",
       "Shaw                        Cluster 3            3   \n",
       "Georgetown                  Cluster 4            4   \n",
       "Foggy Bottom                Cluster 5            5   \n",
       "\n",
       "                                                          Full_Name  \\\n",
       "Short_Name                                                            \n",
       "Adams Morgan         Kalorama Heights, Adams Morgan, Lanier Heights   \n",
       "Columbia Heights  Columbia Heights, Mt. Pleasant, Pleasant Plain...   \n",
       "Shaw                 Howard University, Le Droit Park, Cardozo/Shaw   \n",
       "Georgetown                          Georgetown, Burleith/Hillandale   \n",
       "Foggy Bottom                            West End, Foggy Bottom, GWU   \n",
       "\n",
       "                    lon_ctr    lat_ctr  Population  Population,_1980  \\\n",
       "Short_Name                                                             \n",
       "Adams Morgan     -77.047702  38.919379         NaN             18149   \n",
       "Columbia Heights -77.031769  38.928700         NaN             44081   \n",
       "Shaw             -77.023415  38.921257         NaN             11335   \n",
       "Georgetown       -77.066409  38.909686         NaN             16071   \n",
       "Foggy Bottom     -77.048975  38.902386         NaN             10731   \n",
       "\n",
       "                  Population,_1990  Population,_2000  Population,_2010  ...  \\\n",
       "Short_Name                                                              ...   \n",
       "Adams Morgan                 17812             18167             18338  ...   \n",
       "Columbia Heights             45728             46779             47378  ...   \n",
       "Shaw                         10925             10128             12174  ...   \n",
       "Georgetown                   17919             18741             20464  ...   \n",
       "Foggy Bottom                 11104             11723             16160  ...   \n",
       "\n",
       "                  Charter_school_enrollment_2005  \\\n",
       "Short_Name                                         \n",
       "Adams Morgan                                   0   \n",
       "Columbia Heights                            2026   \n",
       "Shaw                                        1305   \n",
       "Georgetown                                     0   \n",
       "Foggy Bottom                                   0   \n",
       "\n",
       "                  Charter_school_enrollment_2006  \\\n",
       "Short_Name                                         \n",
       "Adams Morgan                                 123   \n",
       "Columbia Heights                            2423   \n",
       "Shaw                                        1361   \n",
       "Georgetown                                    53   \n",
       "Foggy Bottom                                   0   \n",
       "\n",
       "                  Charter_school_enrollment_2007  \\\n",
       "Short_Name                                         \n",
       "Adams Morgan                                 158   \n",
       "Columbia Heights                            2714   \n",
       "Shaw                                        1407   \n",
       "Georgetown                                    86   \n",
       "Foggy Bottom                                   0   \n",
       "\n",
       "                  Charter_school_enrollment_2008  \\\n",
       "Short_Name                                         \n",
       "Adams Morgan                                 187   \n",
       "Columbia Heights                            2940   \n",
       "Shaw                                        1299   \n",
       "Georgetown                                     0   \n",
       "Foggy Bottom                                   0   \n",
       "\n",
       "                  Charter_school_enrollment_2009  \\\n",
       "Short_Name                                         \n",
       "Adams Morgan                                 226   \n",
       "Columbia Heights                            3445   \n",
       "Shaw                                        1362   \n",
       "Georgetown                                     0   \n",
       "Foggy Bottom                                   0   \n",
       "\n",
       "                  Charter_school_enrollment_2010  \\\n",
       "Short_Name                                         \n",
       "Adams Morgan                                 239   \n",
       "Columbia Heights                            3656   \n",
       "Shaw                                        1309   \n",
       "Georgetown                                     0   \n",
       "Foggy Bottom                                   0   \n",
       "\n",
       "                  Charter_school_enrollment_2011  \\\n",
       "Short_Name                                         \n",
       "Adams Morgan                                 515   \n",
       "Columbia Heights                            2926   \n",
       "Shaw                                         243   \n",
       "Georgetown                                     0   \n",
       "Foggy Bottom                                   0   \n",
       "\n",
       "                  Charter_school_enrollment_2012  CAS_math_prof  CAS_read_prof  \n",
       "Short_Name                                                                      \n",
       "Adams Morgan                                 436       0.680769       0.634615  \n",
       "Columbia Heights                            3992       0.582751       0.529604  \n",
       "Shaw                                        1507       0.550725       0.531401  \n",
       "Georgetown                                     0       0.859155       0.887324  \n",
       "Foggy Bottom                                   0       0.666667       0.750000  \n",
       "\n",
       "[5 rows x 415 columns]"
      ]
     },
     "execution_count": 4,
     "metadata": {},
     "output_type": "execute_result"
    }
   ],
   "source": [
    "\n",
    "\n",
    "# take a look at the dataset\n",
    "df.head()"
   ]
  },
  {
   "cell_type": "markdown",
   "metadata": {},
   "source": [
    "Lets select some features that we want to use for regression."
   ]
  },
  {
   "cell_type": "code",
   "execution_count": 3,
   "metadata": {
    "button": false,
    "collapsed": true,
    "deletable": true,
    "new_sheet": false,
    "run_control": {
     "read_only": false
    }
   },
   "outputs": [
    {
     "name": "stderr",
     "output_type": "stream",
     "text": [
      "/home/jupyterlab/conda/lib/python3.6/site-packages/pandas/core/generic.py:6130: SettingWithCopyWarning: \n",
      "A value is trying to be set on a copy of a slice from a DataFrame\n",
      "\n",
      "See the caveats in the documentation: http://pandas.pydata.org/pandas-docs/stable/indexing.html#indexing-view-versus-copy\n",
      "  self._update_inplace(new_data)\n"
     ]
    },
    {
     "data": {
      "text/html": [
       "<div>\n",
       "<style scoped>\n",
       "    .dataframe tbody tr th:only-of-type {\n",
       "        vertical-align: middle;\n",
       "    }\n",
       "\n",
       "    .dataframe tbody tr th {\n",
       "        vertical-align: top;\n",
       "    }\n",
       "\n",
       "    .dataframe thead th {\n",
       "        text-align: right;\n",
       "    }\n",
       "</style>\n",
       "<table border=\"1\" class=\"dataframe\">\n",
       "  <thead>\n",
       "    <tr style=\"text-align: right;\">\n",
       "      <th></th>\n",
       "      <th>Median_sales_price,_2011</th>\n",
       "      <th>Pct_birth_to_teen_mothers_2011</th>\n",
       "      <th>Pct_child_in_poverty_2007-11</th>\n",
       "      <th>Avg._family_income,_2007-11</th>\n",
       "      <th>Person_receiv_food_stamps_2011</th>\n",
       "      <th>Violent_crimes,_2011</th>\n",
       "      <th>Property_crimes,_2011</th>\n",
       "    </tr>\n",
       "    <tr>\n",
       "      <th>Short_Name</th>\n",
       "      <th></th>\n",
       "      <th></th>\n",
       "      <th></th>\n",
       "      <th></th>\n",
       "      <th></th>\n",
       "      <th></th>\n",
       "      <th></th>\n",
       "    </tr>\n",
       "  </thead>\n",
       "  <tbody>\n",
       "    <tr>\n",
       "      <th>Adams Morgan</th>\n",
       "      <td>1.076000e+06</td>\n",
       "      <td>2.8</td>\n",
       "      <td>5.8</td>\n",
       "      <td>162891</td>\n",
       "      <td>791</td>\n",
       "      <td>9.3</td>\n",
       "      <td>41</td>\n",
       "    </tr>\n",
       "    <tr>\n",
       "      <th>Columbia Heights</th>\n",
       "      <td>5.100000e+05</td>\n",
       "      <td>6.7</td>\n",
       "      <td>24.0</td>\n",
       "      <td>87204</td>\n",
       "      <td>9180</td>\n",
       "      <td>13.0</td>\n",
       "      <td>47</td>\n",
       "    </tr>\n",
       "    <tr>\n",
       "      <th>Shaw</th>\n",
       "      <td>6.250000e+05</td>\n",
       "      <td>2.5</td>\n",
       "      <td>15.0</td>\n",
       "      <td>101583</td>\n",
       "      <td>1352</td>\n",
       "      <td>22.0</td>\n",
       "      <td>75</td>\n",
       "    </tr>\n",
       "    <tr>\n",
       "      <th>Georgetown</th>\n",
       "      <td>9.960000e+05</td>\n",
       "      <td>0.5</td>\n",
       "      <td>1.0</td>\n",
       "      <td>304995</td>\n",
       "      <td>87</td>\n",
       "      <td>3.9</td>\n",
       "      <td>44</td>\n",
       "    </tr>\n",
       "    <tr>\n",
       "      <th>Foggy Bottom</th>\n",
       "      <td>5.338788e+05</td>\n",
       "      <td>0.4</td>\n",
       "      <td>11.0</td>\n",
       "      <td>211064</td>\n",
       "      <td>108</td>\n",
       "      <td>3.0</td>\n",
       "      <td>26</td>\n",
       "    </tr>\n",
       "    <tr>\n",
       "      <th>DuPont Circle</th>\n",
       "      <td>7.980000e+05</td>\n",
       "      <td>1.2</td>\n",
       "      <td>22.0</td>\n",
       "      <td>177893</td>\n",
       "      <td>227</td>\n",
       "      <td>15.0</td>\n",
       "      <td>97</td>\n",
       "    </tr>\n",
       "    <tr>\n",
       "      <th>Logan Circle</th>\n",
       "      <td>6.220000e+05</td>\n",
       "      <td>4.1</td>\n",
       "      <td>19.0</td>\n",
       "      <td>123697</td>\n",
       "      <td>3330</td>\n",
       "      <td>11.0</td>\n",
       "      <td>48</td>\n",
       "    </tr>\n",
       "    <tr>\n",
       "      <th>Downtown</th>\n",
       "      <td>5.338788e+05</td>\n",
       "      <td>7.7</td>\n",
       "      <td>45.0</td>\n",
       "      <td>142881</td>\n",
       "      <td>3242</td>\n",
       "      <td>22.0</td>\n",
       "      <td>105</td>\n",
       "    </tr>\n",
       "    <tr>\n",
       "      <th>Southwest</th>\n",
       "      <td>5.338788e+05</td>\n",
       "      <td>14.0</td>\n",
       "      <td>44.0</td>\n",
       "      <td>94339</td>\n",
       "      <td>2576</td>\n",
       "      <td>11.0</td>\n",
       "      <td>36</td>\n",
       "    </tr>\n",
       "  </tbody>\n",
       "</table>\n",
       "</div>"
      ],
      "text/plain": [
       "                  Median_sales_price,_2011  Pct_birth_to_teen_mothers_2011  \\\n",
       "Short_Name                                                                   \n",
       "Adams Morgan                  1.076000e+06                             2.8   \n",
       "Columbia Heights              5.100000e+05                             6.7   \n",
       "Shaw                          6.250000e+05                             2.5   \n",
       "Georgetown                    9.960000e+05                             0.5   \n",
       "Foggy Bottom                  5.338788e+05                             0.4   \n",
       "DuPont Circle                 7.980000e+05                             1.2   \n",
       "Logan Circle                  6.220000e+05                             4.1   \n",
       "Downtown                      5.338788e+05                             7.7   \n",
       "Southwest                     5.338788e+05                            14.0   \n",
       "\n",
       "                  Pct_child_in_poverty_2007-11  Avg._family_income,_2007-11  \\\n",
       "Short_Name                                                                    \n",
       "Adams Morgan                               5.8                       162891   \n",
       "Columbia Heights                          24.0                        87204   \n",
       "Shaw                                      15.0                       101583   \n",
       "Georgetown                                 1.0                       304995   \n",
       "Foggy Bottom                              11.0                       211064   \n",
       "DuPont Circle                             22.0                       177893   \n",
       "Logan Circle                              19.0                       123697   \n",
       "Downtown                                  45.0                       142881   \n",
       "Southwest                                 44.0                        94339   \n",
       "\n",
       "                  Person_receiv_food_stamps_2011  Violent_crimes,_2011  \\\n",
       "Short_Name                                                               \n",
       "Adams Morgan                                 791                   9.3   \n",
       "Columbia Heights                            9180                  13.0   \n",
       "Shaw                                        1352                  22.0   \n",
       "Georgetown                                    87                   3.9   \n",
       "Foggy Bottom                                 108                   3.0   \n",
       "DuPont Circle                                227                  15.0   \n",
       "Logan Circle                                3330                  11.0   \n",
       "Downtown                                    3242                  22.0   \n",
       "Southwest                                   2576                  11.0   \n",
       "\n",
       "                  Property_crimes,_2011  \n",
       "Short_Name                               \n",
       "Adams Morgan                         41  \n",
       "Columbia Heights                     47  \n",
       "Shaw                                 75  \n",
       "Georgetown                           44  \n",
       "Foggy Bottom                         26  \n",
       "DuPont Circle                        97  \n",
       "Logan Circle                         48  \n",
       "Downtown                            105  \n",
       "Southwest                            36  "
      ]
     },
     "execution_count": 3,
     "metadata": {},
     "output_type": "execute_result"
    }
   ],
   "source": [
    "cdf = df[['Median_sales_price,_2011','Pct_birth_to_teen_mothers_2011','Pct_child_in_poverty_2007-11','Avg._family_income,_2007-11','Person_receiv_food_stamps_2011','Violent_crimes,_2011','Property_crimes,_2011']]\n",
    "cdf['Median_sales_price,_2011'].fillna((cdf['Median_sales_price,_2011'].mean()), inplace=True)\n",
    "cdf.head(9)"
   ]
  },
  {
   "cell_type": "markdown",
   "metadata": {},
   "source": [
    "Lets plot Emission values with respect to Engine size:"
   ]
  },
  {
   "cell_type": "code",
   "execution_count": 4,
   "metadata": {
    "button": false,
    "collapsed": true,
    "deletable": true,
    "new_sheet": false,
    "run_control": {
     "read_only": false
    },
    "scrolled": true
   },
   "outputs": [
    {
     "data": {
      "text/plain": [
       "<matplotlib.axes._subplots.AxesSubplot at 0x7f32e4f34dd8>"
      ]
     },
     "execution_count": 4,
     "metadata": {},
     "output_type": "execute_result"
    },
    {
     "data": {
      "image/png": "[encoded data removed]",
      "text/plain": [
       "<Figure size 432x288 with 1 Axes>"
      ]
     },
     "metadata": {
      "needs_background": "light"
     },
     "output_type": "display_data"
    }
   ],
   "source": [
    "cdf.plot.scatter(x='Pct_birth_to_teen_mothers_2011',\n",
    "                y='Median_sales_price,_2011')"
   ]
  },
  {
   "cell_type": "markdown",
   "metadata": {
    "button": false,
    "deletable": true,
    "new_sheet": false,
    "run_control": {
     "read_only": false
    }
   },
   "source": [
    "#### Creating train and test dataset\n",
    "Train/Test Split involves splitting the dataset into training and testing sets respectively, which are mutually exclusive. After which, you train with the training set and test with the testing set. \n",
    "This will provide a more accurate evaluation on out-of-sample accuracy because the testing dataset is not part of the dataset that have been used to train the data. It is more realistic for real world problems.\n",
    "\n",
    "This means that we know the outcome of each data point in this dataset, making it great to test with! And since this data has not been used to train the model, the model has no knowledge of the outcome of these data points. So, in essence, it’s truly an out-of-sample testing.\n",
    "\n"
   ]
  },
  {
   "cell_type": "code",
   "execution_count": 12,
   "metadata": {
    "button": false,
    "collapsed": true,
    "deletable": true,
    "new_sheet": false,
    "run_control": {
     "read_only": false
    }
   },
   "outputs": [],
   "source": [
    "msk = np.random.rand(len(df)) < 0.8\n",
    "train = cdf[msk]\n",
    "test = cdf[~msk]"
   ]
  },
  {
   "cell_type": "markdown",
   "metadata": {
    "button": false,
    "deletable": true,
    "new_sheet": false,
    "run_control": {
     "read_only": false
    }
   },
   "source": [
    "#### Train data distribution"
   ]
  },
  {
   "cell_type": "code",
   "execution_count": 13,
   "metadata": {
    "button": false,
    "collapsed": true,
    "deletable": true,
    "new_sheet": false,
    "run_control": {
     "read_only": false
    }
   },
   "outputs": [
    {
     "data": {
      "text/plain": [
       "<matplotlib.axes._subplots.AxesSubplot at 0x7f32de4cf860>"
      ]
     },
     "execution_count": 13,
     "metadata": {},
     "output_type": "execute_result"
    },
    {
     "data": {
      "image/png": "[encoded data removed]",
      "text/plain": [
       "<Figure size 432x288 with 1 Axes>"
      ]
     },
     "metadata": {
      "needs_background": "light"
     },
     "output_type": "display_data"
    }
   ],
   "source": [
    "train.plot.scatter(x='Person_receiv_food_stamps_2011', y = 'Avg._family_income,_2007-11',  color='blue')\n"
   ]
  },
  {
   "cell_type": "markdown",
   "metadata": {
    "button": false,
    "deletable": true,
    "new_sheet": false,
    "run_control": {
     "read_only": false
    }
   },
   "source": [
    "<h2 id=\"multiple_regression_model\">Multiple Regression Model</h2>\n"
   ]
  },
  {
   "cell_type": "markdown",
   "metadata": {},
   "source": [
    "In reality, there are multiple variables that predict the Co2emission. When more than one independent variable is present, the process is called multiple linear regression. For example, predicting co2emission using FUELCONSUMPTION_COMB, EngineSize and Cylinders of cars. The good thing here is that Multiple linear regression is the extension of simple linear regression model."
   ]
  },
  {
   "cell_type": "code",
   "execution_count": 14,
   "metadata": {
    "button": false,
    "collapsed": true,
    "deletable": true,
    "new_sheet": false,
    "run_control": {
     "read_only": false
    }
   },
   "outputs": [
    {
     "name": "stdout",
     "output_type": "stream",
     "text": [
      "Coefficients:  [[-2.41360350e+04  2.61845173e+03 -1.83259907e+01 -7.67825970e+03\n",
      "   1.01841702e+02]]\n"
     ]
    }
   ],
   "source": [
    "from sklearn import linear_model\n",
    "regr = linear_model.LinearRegression()\n",
    "x = np.asanyarray(train[['Pct_birth_to_teen_mothers_2011','Pct_child_in_poverty_2007-11','Person_receiv_food_stamps_2011','Violent_crimes,_2011','Property_crimes,_2011']])\n",
    "y = np.asanyarray(train[['Median_sales_price,_2011']])\n",
    "regr.fit (x, y)\n",
    "# The coefficients\n",
    "print ('Coefficients: ', regr.coef_)"
   ]
  },
  {
   "cell_type": "markdown",
   "metadata": {},
   "source": [
    "As mentioned before, __Coefficient__ and __Intercept__ , are the parameters of the fit line. \n",
    "Given that it is a multiple linear regression, with 3 parameters, and knowing that the parameters are the intercept and coefficients of hyperplane, sklearn can estimate them from our data. Scikit-learn uses plain Ordinary Least Squares method to solve this problem.\n",
    "\n",
    "#### Ordinary Least Squares (OLS)\n",
    "OLS is a method for estimating the unknown parameters in a linear regression model. OLS chooses the parameters of a linear function of a set of explanatory variables by minimizing the sum of the squares of the differences between the target dependent variable and those predicted by the linear function. In other words, it tries to minimizes the sum of squared errors (SSE) or mean squared error (MSE) between the target variable (y) and our predicted output ($\\hat{y}$) over all samples in the dataset.\n",
    "\n",
    "OLS can find the best parameters using of the following methods:\n",
    "    - Solving the model parameters analytically using closed-form equations\n",
    "    - Using an optimization algorithm (Gradient Descent, Stochastic Gradient Descent, Newton’s Method, etc.)"
   ]
  },
  {
   "cell_type": "markdown",
   "metadata": {},
   "source": [
    "<h2 id=\"prediction\">Prediction</h2>"
   ]
  },
  {
   "cell_type": "code",
   "execution_count": 15,
   "metadata": {
    "button": false,
    "collapsed": true,
    "deletable": true,
    "new_sheet": false,
    "run_control": {
     "read_only": false
    }
   },
   "outputs": [
    {
     "name": "stdout",
     "output_type": "stream",
     "text": [
      "Residual sum of squares: 19072692062.87\n",
      "Variance score: 0.71\n"
     ]
    }
   ],
   "source": [
    "y_hat= regr.predict(test[['Pct_birth_to_teen_mothers_2011','Pct_child_in_poverty_2007-11','Person_receiv_food_stamps_2011','Violent_crimes,_2011','Property_crimes,_2011']])\n",
    "x = np.asanyarray(test[['Pct_birth_to_teen_mothers_2011','Pct_child_in_poverty_2007-11','Person_receiv_food_stamps_2011','Violent_crimes,_2011','Property_crimes,_2011']])\n",
    "y = np.asanyarray(test[['Median_sales_price,_2011']])\n",
    "print(\"Residual sum of squares: %.2f\"\n",
    "      % np.mean((y_hat - y) ** 2))\n",
    "\n",
    "# Explained variance score: 1 is perfect prediction\n",
    "print('Variance score: %.2f' % regr.score(x, y))"
   ]
  },
  {
   "cell_type": "markdown",
   "metadata": {},
   "source": [
    "__explained variance regression score:__  \n",
    "If $\\hat{y}$ is the estimated target output, y the corresponding (correct) target output, and Var is Variance, the square of the standard deviation, then the explained variance is estimated as follow:\n",
    "\n",
    "$\\texttt{explainedVariance}(y, \\hat{y}) = 1 - \\frac{Var\\{ y - \\hat{y}\\}}{Var\\{y\\}}$  \n",
    "The best possible score is 1.0, lower values are worse."
   ]
  },
  {
   "cell_type": "markdown",
   "metadata": {},
   "source": [
    "<h2 id=\"practice\">Practice</h2>\n",
    "Try to use a multiple linear regression with the same dataset but this time use __FUEL CONSUMPTION in CITY__ and \n",
    "__FUEL CONSUMPTION in HWY__ instead of FUELCONSUMPTION_COMB. Does it result in better accuracy?"
   ]
  },
  {
   "cell_type": "code",
   "execution_count": null,
   "metadata": {},
   "outputs": [],
   "source": [
    "# write your code here\n",
    "\n"
   ]
  },
  {
   "cell_type": "markdown",
   "metadata": {},
   "source": [
    "Double-click __here__ for the solution.\n",
    "\n",
    "<!-- Your answer is below:\n",
    "\n",
    "regr = linear_model.LinearRegression()\n",
    "x = np.asanyarray(train[['ENGINESIZE','CYLINDERS','FUELCONSUMPTION_CITY','FUELCONSUMPTION_HWY']])\n",
    "y = np.asanyarray(train[['CO2EMISSIONS']])\n",
    "regr.fit (x, y)\n",
    "print ('Coefficients: ', regr.coef_)\n",
    "y_= regr.predict(test[['ENGINESIZE','CYLINDERS','FUELCONSUMPTION_CITY','FUELCONSUMPTION_HWY']])\n",
    "x = np.asanyarray(test[['ENGINESIZE','CYLINDERS','FUELCONSUMPTION_CITY','FUELCONSUMPTION_HWY']])\n",
    "y = np.asanyarray(test[['CO2EMISSIONS']])\n",
    "print(\"Residual sum of squares: %.2f\"% np.mean((y_ - y) ** 2))\n",
    "print('Variance score: %.2f' % regr.score(x, y))\n",
    "\n",
    "\n",
    "-->"
   ]
  },
  {
   "cell_type": "markdown",
   "metadata": {
    "button": false,
    "deletable": true,
    "new_sheet": false,
    "run_control": {
     "read_only": false
    }
   },
   "source": [
    "<h2>Want to learn more?</h2>\n",
    "\n",
    "IBM SPSS Modeler is a comprehensive analytics platform that has many machine learning algorithms. It has been designed to bring predictive intelligence to decisions made by individuals, by groups, by systems – by your enterprise as a whole. A free trial is available through this course, available here: <a href=\"http://cocl.us/ML0101EN-SPSSModeler\">SPSS Modeler</a>\n",
    "\n",
    "Also, you can use Watson Studio to run these notebooks faster with bigger datasets. Watson Studio is IBM's leading cloud solution for data scientists, built by data scientists. With Jupyter notebooks, RStudio, Apache Spark and popular libraries pre-packaged in the cloud, Watson Studio enables data scientists to collaborate on their projects without having to install anything. Join the fast-growing community of Watson Studio users today with a free account at <a href=\"https://cocl.us/ML0101EN_DSX\">Watson Studio</a>\n",
    "\n",
    "<h3>Thanks for completing this lesson!</h3>\n",
    "\n",
    "<h4>Author:  <a href=\"https://ca.linkedin.com/in/saeedaghabozorgi\">Saeed Aghabozorgi</a></h4>\n",
    "<p><a href=\"https://ca.linkedin.com/in/saeedaghabozorgi\">Saeed Aghabozorgi</a>, PhD is a Data Scientist in IBM with a track record of developing enterprise level applications that substantially increases clients’ ability to turn data into actionable knowledge. He is a researcher in data mining field and expert in developing advanced analytic methods like machine learning and statistical modelling on large datasets.</p>\n",
    "\n",
    "<hr>\n",
    "\n",
    "<p>Copyright &copy; 2018 <a href=\"https://cocl.us/DX0108EN_CC\">Cognitive Class</a>. This notebook and its source code are released under the terms of the <a href=\"https://bigdatauniversity.com/mit-license/\">MIT License</a>.</p>"
   ]
  }
 ],
 "metadata": {
  "kernelspec": {
   "display_name": "Python 3",
   "language": "python",
   "name": "python3"
  },
  "language_info": {
   "codemirror_mode": {
    "name": "ipython",
    "version": 3
   },
   "file_extension": ".py",
   "mimetype": "text/x-python",
   "name": "python",
   "nbconvert_exporter": "python",
   "pygments_lexer": "ipython3",
   "version": "3.6.8"
  },
  "widgets": {
   "state": {},
   "version": "1.1.2"
  }
 },
 "nbformat": 4,
 "nbformat_minor": 2
}
